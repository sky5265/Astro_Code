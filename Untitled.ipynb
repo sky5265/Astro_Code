{
 "cells": [
  {
   "cell_type": "code",
   "execution_count": 3,
   "id": "8dccdccf",
   "metadata": {},
   "outputs": [],
   "source": [
    "import numpy as np\n",
    "import math\n",
    "from Astro_useful_funcs import *\n",
    "from Analysis_useful_funcs import *"
   ]
  },
  {
   "cell_type": "code",
   "execution_count": 5,
   "id": "b489bd6c",
   "metadata": {},
   "outputs": [
    {
     "name": "stdout",
     "output_type": "stream",
     "text": [
      "0.04522494591139404\n"
     ]
    }
   ],
   "source": [
    "F = 1.2357E-15\n",
    "D_MPC = 58\n",
    "D_cm = D_MPC * 3.086E24\n",
    "\n",
    "power_4571 = power_from_obs_flux(obs_flux = F, distance = D_cm)\n",
    "print(power_4571/1.1E40)"
   ]
  },
  {
   "cell_type": "code",
   "execution_count": null,
   "id": "67421de4",
   "metadata": {},
   "outputs": [],
   "source": []
  }
 ],
 "metadata": {
  "kernelspec": {
   "display_name": "Python 3 (ipykernel)",
   "language": "python",
   "name": "python3"
  },
  "language_info": {
   "codemirror_mode": {
    "name": "ipython",
    "version": 3
   },
   "file_extension": ".py",
   "mimetype": "text/x-python",
   "name": "python",
   "nbconvert_exporter": "python",
   "pygments_lexer": "ipython3",
   "version": "3.9.10"
  }
 },
 "nbformat": 4,
 "nbformat_minor": 5
}
